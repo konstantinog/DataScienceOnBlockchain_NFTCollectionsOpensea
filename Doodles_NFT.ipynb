{
  "nbformat": 4,
  "nbformat_minor": 0,
  "metadata": {
    "colab": {
      "name": "Doodles_NFT#6.ipynb",
      "provenance": [],
      "collapsed_sections": []
    },
    "kernelspec": {
      "name": "python3",
      "display_name": "Python 3"
    },
    "language_info": {
      "name": "python"
    }
  },
  "cells": [
    {
      "cell_type": "code",
      "execution_count": null,
      "metadata": {
        "id": "NTodHIs4YDno"
      },
      "outputs": [],
      "source": [
        "import pandas as pd\n",
        "import requests"
      ]
    },
    {
      "cell_type": "code",
      "source": [
        "def max_function(x):\n",
        "\n",
        "    numbers=[]\n",
        "    for i in range(999):\n",
        "    \n",
        "        numbers.append((int(str((x[i])), 16)))\n",
        "        \n",
        "        \n",
        "    return str(max(numbers))"
      ],
      "metadata": {
        "id": "my4kMuYKYHZg"
      },
      "execution_count": null,
      "outputs": []
    },
    {
      "cell_type": "code",
      "source": [
        "list_dataframe = []\n",
        "stop =0\n",
        "i = 0\n",
        "\n",
        "while stop == 0: #get all transfer transactions from the Doodles contract\n",
        "  i = i + 1\n",
        "  print(i)\n",
        "  if i == 1:\n",
        "      fromBlock = \"13430097\" #first block of Doodles contract (creation)\n",
        "  \n",
        "  # transfer event for the Doodles contract\n",
        "  module = \"logs\" #module logs is limited to 1000 results per api call\n",
        "  action = \"getLogs\" #we get the logs data to find sales related transaction of the OpenSea marketplace\n",
        "  toBlock = \"latest\" #the loop continues until we reach the latest transfer transaction\n",
        "  address = \"0x8a90CAb2b38dba80c64b7734e58Ee1dB38B8992e\" # address of the Doodles contract\n",
        "  topic0 = \"0xddf252ad1be2c89b69c2b068fc378daa952ba7f163c4a11628f55a4df523b3ef\" # event transfer hash\n",
        "  apikey = \"T6UBSH18MNJPUZJTR3R3W2JZ9UZWWT5R7I\" #personal api key from etherscan\n",
        "  url = \"https://api.etherscan.io/api?module=\"+module+\"&action=\"+action+\"&fromBlock=\"+fromBlock+\"&toBlock=\"+toBlock+\"&address=\"+address+\"&topic0=\"+topic0+\"&apikey=\"+apikey\n",
        "  response = requests.get(url) #\n",
        "  address_content= response.json() #get the requests data in json format\n",
        "  result=address_content.get(\"result\") #returns 3 columns: \"status\", \"message\" and \"result\" - result stores all the data we are interested in\n",
        "  dataframe=pd.DataFrame.from_dict(result) #saving the api call result as pandas dataframe\n",
        "    \n",
        "  list_dataframe.append(dataframe) #we append each api call result to a list\n",
        "\n",
        "\n",
        "\n",
        "  try: \n",
        "    fromBlock = max_function(dataframe.blockNumber) # increase the block to reach the latest block\n",
        "\n",
        "  except:\n",
        "    pass\n",
        "   \n",
        "  if i>2:\n",
        "    if list_dataframe[i-1].equals(list_dataframe[i-2]): #loop ends when the latest data is equal to the previous data (as it reaches the latest block, the data will repeat itself)\n",
        "          stop=1 #exit the loop\n",
        "    \n"
      ],
      "metadata": {
        "colab": {
          "base_uri": "https://localhost:8080/"
        },
        "id": "cwNGYi94YJki",
        "outputId": "c9725f1b-54b4-4a3d-e83e-8980f44a1fdd"
      },
      "execution_count": null,
      "outputs": [
        {
          "output_type": "stream",
          "name": "stdout",
          "text": [
            "1\n",
            "2\n",
            "3\n",
            "4\n",
            "5\n",
            "6\n",
            "7\n",
            "8\n",
            "9\n",
            "10\n",
            "11\n",
            "12\n",
            "13\n",
            "14\n",
            "15\n",
            "16\n",
            "17\n",
            "18\n",
            "19\n",
            "20\n",
            "21\n",
            "22\n",
            "23\n",
            "24\n",
            "25\n",
            "26\n",
            "27\n",
            "28\n",
            "29\n",
            "30\n",
            "31\n",
            "32\n",
            "33\n",
            "34\n",
            "35\n",
            "36\n",
            "37\n",
            "38\n",
            "39\n",
            "40\n",
            "41\n",
            "42\n",
            "43\n",
            "44\n",
            "45\n",
            "46\n",
            "47\n",
            "48\n",
            "49\n",
            "50\n",
            "51\n",
            "52\n",
            "53\n",
            "54\n",
            "55\n",
            "56\n",
            "57\n",
            "58\n",
            "59\n",
            "60\n",
            "61\n",
            "62\n",
            "63\n",
            "64\n"
          ]
        }
      ]
    },
    {
      "cell_type": "code",
      "source": [
        "list_dataframe=pd.concat(list_dataframe)"
      ],
      "metadata": {
        "id": "e0aoW0P6Yl44"
      },
      "execution_count": null,
      "outputs": []
    },
    {
      "cell_type": "code",
      "source": [
        "min(list_dataframe.timeStamp) #GMT: Sunday, 17. October 2021 13:00:19\n"
      ],
      "metadata": {
        "colab": {
          "base_uri": "https://localhost:8080/",
          "height": 35
        },
        "id": "uhKWMk0LZnhM",
        "outputId": "2d4225cc-a94d-4f8a-d21e-e90f40d23097"
      },
      "execution_count": null,
      "outputs": [
        {
          "output_type": "execute_result",
          "data": {
            "text/plain": [
              "'0x616c1e63'"
            ],
            "application/vnd.google.colaboratory.intrinsic+json": {
              "type": "string"
            }
          },
          "metadata": {},
          "execution_count": 6
        }
      ]
    },
    {
      "cell_type": "code",
      "source": [
        "max(list_dataframe.timeStamp) #GMT: Thursday, 12. May 2022 13:07:00"
      ],
      "metadata": {
        "colab": {
          "base_uri": "https://localhost:8080/",
          "height": 35
        },
        "id": "eoRs_MK7ZpuD",
        "outputId": "9779a280-a1a6-4e0f-8c10-9888eb548507"
      },
      "execution_count": null,
      "outputs": [
        {
          "output_type": "execute_result",
          "data": {
            "text/plain": [
              "'0x627e5e9f'"
            ],
            "application/vnd.google.colaboratory.intrinsic+json": {
              "type": "string"
            }
          },
          "metadata": {},
          "execution_count": 7
        }
      ]
    },
    {
      "cell_type": "code",
      "source": [
        "list_dataframe.to_csv(\"Doodles.csv\")\n",
        "from google.colab import files\n",
        "files.download(\"Doodles.csv\")"
      ],
      "metadata": {
        "colab": {
          "base_uri": "https://localhost:8080/",
          "height": 17
        },
        "id": "XmUsPiYTZsV9",
        "outputId": "a58bc958-8e50-4f93-d9c4-b3f812c7fc42"
      },
      "execution_count": null,
      "outputs": [
        {
          "output_type": "display_data",
          "data": {
            "text/plain": [
              "<IPython.core.display.Javascript object>"
            ],
            "application/javascript": [
              "\n",
              "    async function download(id, filename, size) {\n",
              "      if (!google.colab.kernel.accessAllowed) {\n",
              "        return;\n",
              "      }\n",
              "      const div = document.createElement('div');\n",
              "      const label = document.createElement('label');\n",
              "      label.textContent = `Downloading \"${filename}\": `;\n",
              "      div.appendChild(label);\n",
              "      const progress = document.createElement('progress');\n",
              "      progress.max = size;\n",
              "      div.appendChild(progress);\n",
              "      document.body.appendChild(div);\n",
              "\n",
              "      const buffers = [];\n",
              "      let downloaded = 0;\n",
              "\n",
              "      const channel = await google.colab.kernel.comms.open(id);\n",
              "      // Send a message to notify the kernel that we're ready.\n",
              "      channel.send({})\n",
              "\n",
              "      for await (const message of channel.messages) {\n",
              "        // Send a message to notify the kernel that we're ready.\n",
              "        channel.send({})\n",
              "        if (message.buffers) {\n",
              "          for (const buffer of message.buffers) {\n",
              "            buffers.push(buffer);\n",
              "            downloaded += buffer.byteLength;\n",
              "            progress.value = downloaded;\n",
              "          }\n",
              "        }\n",
              "      }\n",
              "      const blob = new Blob(buffers, {type: 'application/binary'});\n",
              "      const a = document.createElement('a');\n",
              "      a.href = window.URL.createObjectURL(blob);\n",
              "      a.download = filename;\n",
              "      div.appendChild(a);\n",
              "      a.click();\n",
              "      div.remove();\n",
              "    }\n",
              "  "
            ]
          },
          "metadata": {}
        },
        {
          "output_type": "display_data",
          "data": {
            "text/plain": [
              "<IPython.core.display.Javascript object>"
            ],
            "application/javascript": [
              "download(\"download_1f0ede78-b3c5-4237-a147-4a4e0e392c93\", \"Doodles.csv\", 28679661)"
            ]
          },
          "metadata": {}
        }
      ]
    },
    {
      "cell_type": "code",
      "source": [
        ""
      ],
      "metadata": {
        "id": "1Tl3J1ReaW_J"
      },
      "execution_count": null,
      "outputs": []
    }
  ]
}